{
 "cells": [
  {
   "cell_type": "code",
   "execution_count": 1,
   "metadata": {},
   "outputs": [],
   "source": [
    "#importing libraries\n",
    "import numpy as np\n",
    "import pandas as pd\n",
    "import matplotlib.pyplot as plt\n",
    "import seaborn as sns\n",
    "from sklearn.model_selection import train_test_split\n",
    "from sklearn.metrics import confusion_matrix , classification_report , accuracy_score\n",
    "from sklearn.cluster import KMeans\n",
    "from collections import Counter"
   ]
  },
  {
   "cell_type": "code",
   "execution_count": 2,
   "metadata": {},
   "outputs": [
    {
     "data": {
      "text/html": [
       "<div>\n",
       "<style scoped>\n",
       "    .dataframe tbody tr th:only-of-type {\n",
       "        vertical-align: middle;\n",
       "    }\n",
       "\n",
       "    .dataframe tbody tr th {\n",
       "        vertical-align: top;\n",
       "    }\n",
       "\n",
       "    .dataframe thead th {\n",
       "        text-align: right;\n",
       "    }\n",
       "</style>\n",
       "<table border=\"1\" class=\"dataframe\">\n",
       "  <thead>\n",
       "    <tr style=\"text-align: right;\">\n",
       "      <th></th>\n",
       "      <th>a1</th>\n",
       "      <th>a2</th>\n",
       "      <th>s3</th>\n",
       "      <th>a4</th>\n",
       "      <th>a5</th>\n",
       "      <th>a6</th>\n",
       "      <th>a7</th>\n",
       "      <th>a8</th>\n",
       "      <th>a9</th>\n",
       "      <th>a10</th>\n",
       "      <th>a11</th>\n",
       "      <th>a12</th>\n",
       "      <th>a13</th>\n",
       "      <th>a14</th>\n",
       "      <th>a15</th>\n",
       "      <th>a16</th>\n",
       "    </tr>\n",
       "  </thead>\n",
       "  <tbody>\n",
       "    <tr>\n",
       "      <th>677</th>\n",
       "      <td>b</td>\n",
       "      <td>19.42</td>\n",
       "      <td>7.25</td>\n",
       "      <td>u</td>\n",
       "      <td>g</td>\n",
       "      <td>m</td>\n",
       "      <td>v</td>\n",
       "      <td>0.040</td>\n",
       "      <td>f</td>\n",
       "      <td>t</td>\n",
       "      <td>1</td>\n",
       "      <td>f</td>\n",
       "      <td>g</td>\n",
       "      <td>00100</td>\n",
       "      <td>1</td>\n",
       "      <td>-</td>\n",
       "    </tr>\n",
       "    <tr>\n",
       "      <th>641</th>\n",
       "      <td>?</td>\n",
       "      <td>33.17</td>\n",
       "      <td>2.25</td>\n",
       "      <td>y</td>\n",
       "      <td>p</td>\n",
       "      <td>cc</td>\n",
       "      <td>v</td>\n",
       "      <td>3.500</td>\n",
       "      <td>f</td>\n",
       "      <td>f</td>\n",
       "      <td>0</td>\n",
       "      <td>t</td>\n",
       "      <td>g</td>\n",
       "      <td>00200</td>\n",
       "      <td>141</td>\n",
       "      <td>-</td>\n",
       "    </tr>\n",
       "    <tr>\n",
       "      <th>675</th>\n",
       "      <td>a</td>\n",
       "      <td>41.58</td>\n",
       "      <td>1.04</td>\n",
       "      <td>u</td>\n",
       "      <td>g</td>\n",
       "      <td>aa</td>\n",
       "      <td>v</td>\n",
       "      <td>0.665</td>\n",
       "      <td>f</td>\n",
       "      <td>f</td>\n",
       "      <td>0</td>\n",
       "      <td>f</td>\n",
       "      <td>g</td>\n",
       "      <td>00240</td>\n",
       "      <td>237</td>\n",
       "      <td>-</td>\n",
       "    </tr>\n",
       "    <tr>\n",
       "      <th>622</th>\n",
       "      <td>a</td>\n",
       "      <td>25.58</td>\n",
       "      <td>0.00</td>\n",
       "      <td>?</td>\n",
       "      <td>?</td>\n",
       "      <td>?</td>\n",
       "      <td>?</td>\n",
       "      <td>0.000</td>\n",
       "      <td>f</td>\n",
       "      <td>f</td>\n",
       "      <td>0</td>\n",
       "      <td>f</td>\n",
       "      <td>p</td>\n",
       "      <td>?</td>\n",
       "      <td>0</td>\n",
       "      <td>+</td>\n",
       "    </tr>\n",
       "    <tr>\n",
       "      <th>257</th>\n",
       "      <td>b</td>\n",
       "      <td>20.00</td>\n",
       "      <td>0.00</td>\n",
       "      <td>u</td>\n",
       "      <td>g</td>\n",
       "      <td>d</td>\n",
       "      <td>v</td>\n",
       "      <td>0.500</td>\n",
       "      <td>f</td>\n",
       "      <td>f</td>\n",
       "      <td>0</td>\n",
       "      <td>f</td>\n",
       "      <td>g</td>\n",
       "      <td>00144</td>\n",
       "      <td>0</td>\n",
       "      <td>-</td>\n",
       "    </tr>\n",
       "  </tbody>\n",
       "</table>\n",
       "</div>"
      ],
      "text/plain": [
       "    a1     a2    s3 a4 a5  a6 a7     a8 a9 a10  a11 a12 a13    a14  a15 a16\n",
       "677  b  19.42  7.25  u  g   m  v  0.040  f   t    1   f   g  00100    1   -\n",
       "641  ?  33.17  2.25  y  p  cc  v  3.500  f   f    0   t   g  00200  141   -\n",
       "675  a  41.58  1.04  u  g  aa  v  0.665  f   f    0   f   g  00240  237   -\n",
       "622  a  25.58  0.00  ?  ?   ?  ?  0.000  f   f    0   f   p      ?    0   +\n",
       "257  b  20.00  0.00  u  g   d  v  0.500  f   f    0   f   g  00144    0   -"
      ]
     },
     "execution_count": 2,
     "metadata": {},
     "output_type": "execute_result"
    }
   ],
   "source": [
    "# load dataset\n",
    "# creadit card data\n",
    "df = pd.read_csv(r'/home/rahul/my_project_dir/python_learning/Class/Datasets/crx.csv')\n",
    "df.sample(5)"
   ]
  },
  {
   "cell_type": "code",
   "execution_count": 3,
   "metadata": {},
   "outputs": [
    {
     "data": {
      "text/plain": [
       "a1     0\n",
       "a2     0\n",
       "s3     0\n",
       "a4     0\n",
       "a5     0\n",
       "a6     0\n",
       "a7     0\n",
       "a8     0\n",
       "a9     0\n",
       "a10    0\n",
       "a11    0\n",
       "a12    0\n",
       "a13    0\n",
       "a14    0\n",
       "a15    0\n",
       "a16    0\n",
       "dtype: int64"
      ]
     },
     "execution_count": 3,
     "metadata": {},
     "output_type": "execute_result"
    }
   ],
   "source": [
    "df.isnull().sum()"
   ]
  },
  {
   "cell_type": "code",
   "execution_count": 4,
   "metadata": {},
   "outputs": [
    {
     "name": "stdout",
     "output_type": "stream",
     "text": [
      "<class 'pandas.core.frame.DataFrame'>\n",
      "RangeIndex: 690 entries, 0 to 689\n",
      "Data columns (total 16 columns):\n",
      " #   Column  Non-Null Count  Dtype  \n",
      "---  ------  --------------  -----  \n",
      " 0   a1      690 non-null    object \n",
      " 1   a2      690 non-null    object \n",
      " 2   s3      690 non-null    float64\n",
      " 3   a4      690 non-null    object \n",
      " 4   a5      690 non-null    object \n",
      " 5   a6      690 non-null    object \n",
      " 6   a7      690 non-null    object \n",
      " 7   a8      690 non-null    float64\n",
      " 8   a9      690 non-null    object \n",
      " 9   a10     690 non-null    object \n",
      " 10  a11     690 non-null    int64  \n",
      " 11  a12     690 non-null    object \n",
      " 12  a13     690 non-null    object \n",
      " 13  a14     690 non-null    object \n",
      " 14  a15     690 non-null    int64  \n",
      " 15  a16     690 non-null    object \n",
      "dtypes: float64(2), int64(2), object(12)\n",
      "memory usage: 86.4+ KB\n",
      "None\n",
      "\n",
      "\n",
      "               s3          a8        a11            a15\n",
      "count  690.000000  690.000000  690.00000     690.000000\n",
      "mean     4.758725    2.223406    2.40000    1017.385507\n",
      "std      4.978163    3.346513    4.86294    5210.102598\n",
      "min      0.000000    0.000000    0.00000       0.000000\n",
      "25%      1.000000    0.165000    0.00000       0.000000\n",
      "50%      2.750000    1.000000    0.00000       5.000000\n",
      "75%      7.207500    2.625000    3.00000     395.500000\n",
      "max     28.000000   28.500000   67.00000  100000.000000\n"
     ]
    }
   ],
   "source": [
    "print(df.info())\n",
    "print('\\n')\n",
    "print(df.describe())"
   ]
  },
  {
   "cell_type": "code",
   "execution_count": 5,
   "metadata": {},
   "outputs": [
    {
     "data": {
      "text/plain": [
       "['a1', 'a2', 'a4', 'a5', 'a6', 'a7', 'a9', 'a10', 'a12', 'a13', 'a14', 'a16']"
      ]
     },
     "execution_count": 5,
     "metadata": {},
     "output_type": "execute_result"
    }
   ],
   "source": [
    "# taking categorical data at one variable \n",
    "columns = [cols for cols in df.columns]\n",
    "categorical_cols = [cols for cols in columns if df[cols].dtypes == 'O' ]\n",
    "categorical_cols"
   ]
  },
  {
   "cell_type": "code",
   "execution_count": 6,
   "metadata": {},
   "outputs": [
    {
     "name": "stdout",
     "output_type": "stream",
     "text": [
      "a1 ['b' 'a' '?']\n",
      "a2 ['30.83' '58.67' '24.50' '27.83' '20.17' '32.08' '33.17' '22.92' '54.42'\n",
      " '42.50' '22.08' '29.92' '38.25' '48.08' '45.83' '36.67' '28.25' '23.25'\n",
      " '21.83' '19.17' '25.00' '47.75' '27.42' '41.17' '15.83' '47.00' '56.58'\n",
      " '57.42' '42.08' '29.25' '42.00' '49.50' '36.75' '22.58' '27.25' '23.00'\n",
      " '27.75' '54.58' '34.17' '28.92' '29.67' '39.58' '56.42' '54.33' '41.00'\n",
      " '31.92' '41.50' '23.92' '25.75' '26.00' '37.42' '34.92' '34.25' '23.33'\n",
      " '23.17' '44.33' '35.17' '43.25' '56.75' '31.67' '23.42' '20.42' '26.67'\n",
      " '36.00' '25.50' '19.42' '32.33' '34.83' '38.58' '44.25' '44.83' '20.67'\n",
      " '34.08' '21.67' '21.50' '49.58' '27.67' '39.83' '?' '37.17' '25.67'\n",
      " '34.00' '49.00' '62.50' '31.42' '52.33' '28.75' '28.58' '22.50' '28.50'\n",
      " '37.50' '35.25' '18.67' '54.83' '40.92' '19.75' '29.17' '24.58' '33.75'\n",
      " '25.42' '37.75' '52.50' '57.83' '20.75' '39.92' '24.75' '44.17' '23.50'\n",
      " '47.67' '22.75' '34.42' '28.42' '67.75' '47.42' '36.25' '32.67' '48.58'\n",
      " '33.58' '18.83' '26.92' '31.25' '56.50' '43.00' '22.33' '32.83' '40.33'\n",
      " '30.50' '52.83' '46.67' '58.33' '37.33' '23.08' '32.75' '68.67' '28.00'\n",
      " '44.00' '25.08' '32.00' '60.58' '40.83' '19.33' '41.33' '56.00' '49.83'\n",
      " '22.67' '27.00' '26.08' '18.42' '21.25' '57.08' '22.42' '48.75' '40.00'\n",
      " '40.58' '28.67' '33.08' '21.33' '41.75' '34.50' '48.17' '27.58' '24.08'\n",
      " '24.83' '36.33' '35.42' '71.58' '39.50' '39.33' '24.33' '60.08' '55.92'\n",
      " '53.92' '18.92' '50.08' '65.42' '17.58' '18.08' '19.67' '25.17' '33.50'\n",
      " '58.42' '26.17' '42.83' '38.17' '20.50' '48.25' '28.33' '18.75' '18.50'\n",
      " '45.00' '40.25' '41.42' '17.83' '18.17' '20.00' '52.17' '50.75' '17.08'\n",
      " '18.33' '59.67' '18.00' '37.58' '30.67' '18.58' '16.25' '21.17' '17.67'\n",
      " '16.50' '29.50' '21.75' '18.25' '35.75' '16.08' '69.17' '32.92' '16.33'\n",
      " '22.17' '57.58' '15.92' '31.75' '19.00' '17.50' '33.67' '30.17' '33.25'\n",
      " '25.25' '34.75' '47.33' '39.08' '42.75' '38.92' '62.75' '32.25' '26.75'\n",
      " '63.33' '30.75' '16.00' '19.50' '32.42' '30.25' '26.83' '16.92' '24.42'\n",
      " '39.42' '23.58' '21.42' '33.00' '26.33' '26.25' '28.17' '20.83' '43.17'\n",
      " '56.83' '15.17' '29.83' '31.00' '51.92' '69.50' '19.58' '22.25' '38.42'\n",
      " '26.58' '35.00' '29.42' '49.17' '51.83' '58.58' '53.33' '27.17' '25.92'\n",
      " '30.58' '17.25' '27.33' '36.50' '29.75' '52.42' '36.17' '34.58' '21.92'\n",
      " '36.58' '31.08' '30.42' '21.08' '17.42' '39.17' '26.50' '17.33' '23.75'\n",
      " '34.67' '74.83' '45.33' '47.25' '24.17' '39.25' '39.00' '64.08' '31.33'\n",
      " '21.00' '13.75' '46.00' '20.25' '60.92' '30.00' '22.83' '45.17' '41.58'\n",
      " '55.75' '25.33' '31.83' '33.92' '24.92' '80.25' '30.08' '48.33' '76.75'\n",
      " '51.33' '41.92' '29.58' '32.17' '51.42' '42.17' '43.08' '59.50' '65.17'\n",
      " '20.33' '48.50' '28.08' '73.42' '51.58' '38.67' '46.08' '20.08' '42.25'\n",
      " '16.17' '47.83' '22.00' '38.33' '25.58' '21.58' '36.08' '38.75' '35.58'\n",
      " '31.58' '15.75' '17.92' '30.33' '47.17' '25.83' '50.25' '36.42']\n",
      "a4 ['u' 'y' '?' 'l']\n",
      "a5 ['g' 'p' '?' 'gg']\n",
      "a6 ['w' 'q' 'm' 'r' 'cc' 'k' 'c' 'd' 'x' 'i' 'e' 'aa' 'ff' 'j' '?']\n",
      "a7 ['v' 'h' 'bb' 'ff' 'j' 'z' '?' 'o' 'dd' 'n']\n",
      "a9 ['t' 'f']\n",
      "a10 ['t' 'f']\n",
      "a12 ['f' 't']\n",
      "a13 ['g' 's' 'p']\n",
      "a14 ['00202' '00043' '00280' '00100' '00120' '00360' '00164' '00080' '00180'\n",
      " '00052' '00128' '00260' '00000' '00320' '00396' '00096' '00200' '00300'\n",
      " '00145' '00500' '00168' '00434' '00583' '00030' '00240' '00070' '00455'\n",
      " '00311' '00216' '00491' '00400' '00239' '00160' '00711' '00250' '00520'\n",
      " '00515' '00420' '?' '00980' '00443' '00140' '00094' '00368' '00288'\n",
      " '00928' '00188' '00112' '00171' '00268' '00167' '00075' '00152' '00176'\n",
      " '00329' '00212' '00410' '00274' '00375' '00408' '00350' '00204' '00040'\n",
      " '00181' '00399' '00440' '00093' '00060' '00395' '00393' '00021' '00029'\n",
      " '00102' '00431' '00370' '00024' '00020' '00129' '00510' '00195' '00144'\n",
      " '00380' '00049' '00050' '00381' '00150' '00117' '00056' '00211' '00230'\n",
      " '00156' '00022' '00228' '00519' '00253' '00487' '00220' '00088' '00073'\n",
      " '00121' '00470' '00136' '00132' '00292' '00154' '00272' '00340' '00108'\n",
      " '00720' '00450' '00232' '00170' '01160' '00411' '00460' '00348' '00480'\n",
      " '00640' '00372' '00276' '00221' '00352' '00141' '00178' '00600' '00550'\n",
      " '02000' '00225' '00210' '00110' '00356' '00045' '00062' '00092' '00174'\n",
      " '00017' '00086' '00454' '00254' '00028' '00263' '00333' '00312' '00290'\n",
      " '00371' '00099' '00252' '00760' '00560' '00130' '00523' '00680' '00163'\n",
      " '00208' '00383' '00330' '00422' '00840' '00432' '00032' '00186' '00303'\n",
      " '00349' '00224' '00369' '00076' '00231' '00309' '00416' '00465' '00256']\n",
      "a16 ['+' '-']\n"
     ]
    }
   ],
   "source": [
    "# now let's check the unique values in each data point\n",
    "for cols in categorical_cols:\n",
    "    print(cols , df[cols].unique())"
   ]
  },
  {
   "cell_type": "code",
   "execution_count": 7,
   "metadata": {},
   "outputs": [
    {
     "name": "stdout",
     "output_type": "stream",
     "text": [
      "Counter({'b': 468, 'a': 210, '?': 12})\n"
     ]
    },
    {
     "data": {
      "text/plain": [
       "<matplotlib.axes._subplots.AxesSubplot at 0x7faa1e72a160>"
      ]
     },
     "execution_count": 7,
     "metadata": {},
     "output_type": "execute_result"
    },
    {
     "data": {
      "image/png": "[encoded data removed]",
      "text/plain": [
       "<Figure size 432x288 with 1 Axes>"
      ]
     },
     "metadata": {
      "needs_background": "light"
     },
     "output_type": "display_data"
    }
   ],
   "source": [
    "print(Counter(df['a1']))\n",
    "sns.countplot(df['a1'])"
   ]
  },
  {
   "cell_type": "code",
   "execution_count": 8,
   "metadata": {},
   "outputs": [],
   "source": [
    "# df.loc[df.a1 =='?' , 'a1'] = 'b'"
   ]
  },
  {
   "cell_type": "code",
   "execution_count": 9,
   "metadata": {},
   "outputs": [
    {
     "name": "stdout",
     "output_type": "stream",
     "text": [
      "Counter({'b': 468, 'a': 210, '?': 12})\n"
     ]
    }
   ],
   "source": [
    "print(Counter(df['a1']))"
   ]
  },
  {
   "cell_type": "code",
   "execution_count": 10,
   "metadata": {},
   "outputs": [],
   "source": [
    "def handle_non_numerical_data(df):\n",
    "    columns = df.columns.values\n",
    "    for column in columns:\n",
    "        text_digit_vals = {}\n",
    "        def convert_to_int(val):\n",
    "            return text_digit_vals[val]\n",
    "\n",
    "        if df[column].dtypes != np.int64 and df[column].dtypes != np.float64:\n",
    "            column_content = df[column].values.tolist()\n",
    "            unique_elements = set(column_content)\n",
    "            x = 0\n",
    "            for unique in unique_elements:\n",
    "                if unique not in text_digit_vals:\n",
    "                    text_digit_vals[unique] = x\n",
    "                    x +=1\n",
    "            df[column] = list(map(convert_to_int, df[column]))\n",
    "    return df\n",
    "\n",
    "df = handle_non_numerical_data(df)"
   ]
  },
  {
   "cell_type": "code",
   "execution_count": 11,
   "metadata": {},
   "outputs": [
    {
     "name": "stdout",
     "output_type": "stream",
     "text": [
      "a1 : [1 0 2]\n",
      "a2 : [ 83 318 161 333 268 169 319 232 147 258 172 203 320   0 290 306 193 212\n",
      " 194  77 167  33  27 156 198 197  29  70 295 316 343 294 266  23   8 249\n",
      "  85 202 347 148  72 275 345  69 242 251 115 124 132  35 211 215  99 121\n",
      " 214 273 305  47 264 259 207 137 181 256   3  73 262 308 344 191  90 176\n",
      " 139  61 260  39 240 108 246   5 221  94 173 219 281 349 145 321  97 188\n",
      "  11  31 233  42 317 116 322 100 205 119  19 190 196 220 111 110   2 271\n",
      " 183  60 336 122 112 245 146  74 272 287 298 227   9  12 104  25 101 329\n",
      " 288  50  57 224 231  78 234 302 213 131 297  37  98 223 153 300 106   4\n",
      " 239 299 311  67  59 154 222 291   6 244 332 136  88 339  51  87 235 165\n",
      "  32 280 120 138  66 118 199 269 150 282 140  26 248  20 206  62 201 157\n",
      " 179 270  45 177 301  43 277  52 328 210 168   1 133 107 252  65  22 247\n",
      " 346  89  76  36 160 149 114 152  48 286 186 125  95  86 237  18 134  53\n",
      " 331  30 337 204 276 109  13  14 174 209 296 123 184 330  41 255 334 285\n",
      " 164 175  71 216 267 238 129  46 341  21 218 310  68 304  63 151 144 105\n",
      " 283 335 225 195 200  79 113 185 217 284 338  10 187  34 257 314 292 250\n",
      " 135 279  24  17 243 126 327 229 274 263  56 166 189 143 289  15 117 142\n",
      " 241  44 228  92 162 208  80 155 342 253  82 324 261  93 170  49  75 323\n",
      "  28  54 265 158 226 309  64 163  38  96 312 171  81 128 315 236 307  84\n",
      "  40  58 192 325 130 326 254 313 278 127 230 102 182 348 159 180  55 178\n",
      "   7 303 103  91 340 141 293  16]\n",
      "a4 : [1 2 3 0]\n",
      "a5 : [1 2 3 0]\n",
      "a6 : [ 5  9  7  4 10  3  2 12  8  1 13 11  6 14  0]\n",
      "a7 : [3 2 4 1 8 7 6 5 0 9]\n",
      "a9 : [0 1]\n",
      "a10 : [0 1]\n",
      "a12 : [1 0]\n",
      "a13 : [1 0 2]\n",
      "a14 : [107   7  27 114  28 104  58  24  73 158 151  63 136 113  53  92   1 153\n",
      "  20  41  85  67   0 109  51  95  72 147 105  22  59  16  57 125 111  18\n",
      "  84  80 128  45 163  43  87 103  32  33 117  94 154 165  48  49 162 120\n",
      " 119 146  62  14  23 169  42  75 168 145 115 148 155  26 144 170  77  50\n",
      "  19  69  34  86  97  52  90 140 124 106 141 130  17 122 159   2 112 131\n",
      " 110 156  25 142 137  46  64  61  81  68  82 116  30  71 161  11 164 149\n",
      " 139  40   4  15 152 150 126 121  56 157  98  96 102  12  70 133  44  76\n",
      "  31  99   9  93   8 132  13  39  10  47  83  37  29  60   5 138   6  54\n",
      "  74   3  55 127  38 160  88  89 108 100 167 123 143 166  36 129  78 134\n",
      " 101  21 135  35  65  91  66 118  79]\n",
      "a16 : [0 1]\n"
     ]
    }
   ],
   "source": [
    "for cols in categorical_cols:\n",
    "    print(cols ,':',df[cols].unique())"
   ]
  },
  {
   "cell_type": "code",
   "execution_count": 13,
   "metadata": {},
   "outputs": [
    {
     "name": "stdout",
     "output_type": "stream",
     "text": [
      "a1 : Counter({1: 468, 0: 210, 2: 12})\n",
      "a2 : Counter({246: 12, 239: 9, 137: 7, 161: 6, 77: 6, 167: 6, 176: 6, 97: 6, 298: 6, 218: 6, 333: 5, 319: 5, 212: 5, 249: 5, 240: 5, 78: 5, 232: 4, 172: 4, 156: 4, 8: 4, 347: 4, 305: 4, 181: 4, 262: 4, 221: 4, 321: 4, 100: 4, 220: 4, 110: 4, 271: 4, 201: 4, 270: 4, 252: 4, 186: 4, 268: 3, 306: 3, 193: 3, 194: 3, 266: 3, 23: 3, 124: 3, 132: 3, 214: 3, 207: 3, 73: 3, 308: 3, 139: 3, 260: 3, 94: 3, 145: 3, 11: 3, 317: 3, 111: 3, 60: 3, 287: 3, 9: 3, 231: 3, 244: 3, 332: 3, 87: 3, 235: 3, 165: 3, 206: 3, 62: 3, 301: 3, 107: 3, 247: 3, 149: 3, 152: 3, 53: 3, 331: 3, 13: 3, 14: 3, 209: 3, 334: 3, 285: 3, 216: 3, 151: 3, 144: 3, 225: 3, 113: 3, 185: 3, 327: 3, 274: 3, 189: 3, 289: 3, 142: 3, 171: 3, 313: 3, 103: 3, 169: 2, 320: 2, 0: 2, 27: 2, 198: 2, 316: 2, 343: 2, 85: 2, 148: 2, 72: 2, 275: 2, 242: 2, 251: 2, 215: 2, 99: 2, 121: 2, 273: 2, 47: 2, 259: 2, 344: 2, 191: 2, 61: 2, 188: 2, 31: 2, 205: 2, 119: 2, 19: 2, 190: 2, 183: 2, 336: 2, 245: 2, 74: 2, 272: 2, 227: 2, 329: 2, 234: 2, 213: 2, 297: 2, 37: 2, 223: 2, 153: 2, 300: 2, 299: 2, 67: 2, 59: 2, 154: 2, 222: 2, 291: 2, 136: 2, 88: 2, 32: 2, 280: 2, 66: 2, 199: 2, 140: 2, 20: 2, 45: 2, 210: 2, 160: 2, 114: 2, 48: 2, 286: 2, 125: 2, 95: 2, 86: 2, 237: 2, 276: 2, 174: 2, 296: 2, 184: 2, 330: 2, 41: 2, 71: 2, 267: 2, 46: 2, 341: 2, 105: 2, 338: 2, 10: 2, 34: 2, 135: 2, 56: 2, 155: 2, 253: 2, 49: 2, 323: 2, 54: 2, 265: 2, 102: 2, 348: 2, 83: 1, 318: 1, 147: 1, 258: 1, 203: 1, 290: 1, 33: 1, 197: 1, 29: 1, 70: 1, 295: 1, 294: 1, 202: 1, 345: 1, 69: 1, 115: 1, 35: 1, 211: 1, 264: 1, 256: 1, 3: 1, 90: 1, 39: 1, 108: 1, 5: 1, 173: 1, 219: 1, 281: 1, 349: 1, 233: 1, 42: 1, 116: 1, 322: 1, 196: 1, 2: 1, 122: 1, 112: 1, 146: 1, 12: 1, 104: 1, 25: 1, 101: 1, 288: 1, 50: 1, 57: 1, 224: 1, 302: 1, 131: 1, 98: 1, 106: 1, 4: 1, 311: 1, 6: 1, 339: 1, 51: 1, 120: 1, 138: 1, 118: 1, 269: 1, 150: 1, 282: 1, 26: 1, 248: 1, 157: 1, 179: 1, 177: 1, 43: 1, 277: 1, 52: 1, 328: 1, 168: 1, 1: 1, 133: 1, 65: 1, 22: 1, 346: 1, 89: 1, 76: 1, 36: 1, 18: 1, 134: 1, 30: 1, 337: 1, 204: 1, 109: 1, 123: 1, 255: 1, 164: 1, 175: 1, 238: 1, 129: 1, 21: 1, 310: 1, 68: 1, 304: 1, 63: 1, 283: 1, 335: 1, 195: 1, 200: 1, 79: 1, 217: 1, 284: 1, 187: 1, 257: 1, 314: 1, 292: 1, 250: 1, 279: 1, 24: 1, 17: 1, 243: 1, 126: 1, 229: 1, 263: 1, 166: 1, 143: 1, 15: 1, 117: 1, 241: 1, 44: 1, 228: 1, 92: 1, 162: 1, 208: 1, 80: 1, 342: 1, 82: 1, 324: 1, 261: 1, 93: 1, 170: 1, 75: 1, 28: 1, 158: 1, 226: 1, 309: 1, 64: 1, 163: 1, 38: 1, 96: 1, 312: 1, 81: 1, 128: 1, 315: 1, 236: 1, 307: 1, 84: 1, 40: 1, 58: 1, 192: 1, 325: 1, 130: 1, 326: 1, 254: 1, 278: 1, 127: 1, 230: 1, 182: 1, 159: 1, 180: 1, 55: 1, 178: 1, 7: 1, 303: 1, 91: 1, 340: 1, 141: 1, 293: 1, 16: 1})\n",
      "a4 : Counter({1: 519, 2: 163, 3: 6, 0: 2})\n",
      "a5 : Counter({1: 519, 2: 163, 3: 6, 0: 2})\n",
      "a6 : Counter({2: 137, 9: 78, 5: 64, 1: 59, 11: 54, 6: 53, 3: 51, 10: 41, 7: 38, 8: 38, 12: 30, 13: 25, 14: 10, 0: 9, 4: 3})\n",
      "a7 : Counter({3: 399, 2: 138, 4: 59, 1: 57, 6: 9, 8: 8, 7: 8, 0: 6, 9: 4, 5: 2})\n",
      "a9 : Counter({0: 361, 1: 329})\n",
      "a10 : Counter({1: 395, 0: 295})\n",
      "a12 : Counter({1: 374, 0: 316})\n",
      "a13 : Counter({1: 625, 0: 57, 2: 8})\n",
      "a14 : Counter({136: 132, 28: 35, 1: 35, 57: 34, 114: 30, 24: 30, 27: 22, 73: 18, 43: 16, 113: 14, 51: 14, 153: 13, 128: 13, 63: 11, 59: 9, 26: 9, 64: 9, 104: 7, 164: 7, 106: 5, 95: 4, 18: 4, 80: 4, 168: 4, 148: 4, 124: 4, 30: 4, 149: 4, 4: 4, 58: 3, 151: 3, 92: 3, 105: 3, 120: 3, 145: 3, 122: 3, 11: 3, 126: 3, 56: 3, 54: 3, 53: 2, 20: 2, 41: 2, 85: 2, 94: 2, 42: 2, 115: 2, 34: 2, 97: 2, 52: 2, 130: 2, 25: 2, 61: 2, 81: 2, 116: 2, 161: 2, 139: 2, 12: 2, 99: 2, 9: 2, 93: 2, 39: 2, 6: 2, 55: 2, 38: 2, 160: 2, 123: 2, 107: 1, 7: 1, 158: 1, 67: 1, 0: 1, 109: 1, 72: 1, 147: 1, 22: 1, 16: 1, 125: 1, 111: 1, 84: 1, 45: 1, 163: 1, 87: 1, 103: 1, 32: 1, 33: 1, 117: 1, 154: 1, 165: 1, 48: 1, 49: 1, 162: 1, 119: 1, 146: 1, 62: 1, 14: 1, 23: 1, 169: 1, 75: 1, 155: 1, 144: 1, 170: 1, 77: 1, 50: 1, 19: 1, 69: 1, 86: 1, 90: 1, 140: 1, 141: 1, 17: 1, 159: 1, 2: 1, 112: 1, 131: 1, 110: 1, 156: 1, 142: 1, 137: 1, 46: 1, 68: 1, 82: 1, 71: 1, 40: 1, 15: 1, 152: 1, 150: 1, 121: 1, 157: 1, 98: 1, 96: 1, 102: 1, 70: 1, 133: 1, 44: 1, 76: 1, 31: 1, 8: 1, 132: 1, 13: 1, 10: 1, 47: 1, 83: 1, 37: 1, 29: 1, 60: 1, 5: 1, 138: 1, 74: 1, 3: 1, 127: 1, 88: 1, 89: 1, 108: 1, 100: 1, 167: 1, 143: 1, 166: 1, 36: 1, 129: 1, 78: 1, 134: 1, 101: 1, 21: 1, 135: 1, 35: 1, 65: 1, 91: 1, 66: 1, 118: 1, 79: 1})\n",
      "a16 : Counter({1: 383, 0: 307})\n"
     ]
    }
   ],
   "source": [
    "for cols in categorical_cols:\n",
    "    print(cols ,':',Counter(df[cols]))"
   ]
  },
  {
   "cell_type": "code",
   "execution_count": 14,
   "metadata": {},
   "outputs": [
    {
     "data": {
      "text/plain": [
       "[18711296920.638103,\n",
       " 5579870143.303266,\n",
       " 2810049616.2235208,\n",
       " 1191255684.8298767,\n",
       " 678743007.0114592,\n",
       " 312843610.14323413,\n",
       " 191564941.4451233,\n",
       " 126567281.0586726,\n",
       " 84987474.3794133,\n",
       " 66895546.27632943,\n",
       " 56570437.79852568,\n",
       " 47169801.98434869,\n",
       " 37363958.718796775,\n",
       " 29794368.526885897,\n",
       " 25119194.077932257,\n",
       " 21681107.634899125,\n",
       " 18677758.261180174,\n",
       " 16272352.516211998,\n",
       " 14281992.595612211]"
      ]
     },
     "execution_count": 14,
     "metadata": {},
     "output_type": "execute_result"
    }
   ],
   "source": [
    "# using elbow method\n",
    "wcss = []\n",
    "for i in range(1,20):\n",
    "    km = KMeans(n_clusters=i)\n",
    "    km.fit(df)\n",
    "    wcss.append(km.inertia_)\n",
    "    \n",
    "wcss"
   ]
  },
  {
   "cell_type": "code",
   "execution_count": 45,
   "metadata": {},
   "outputs": [
    {
     "data": {
      "image/png": "[encoded data removed]",
      "text/plain": [
       "<Figure size 432x288 with 1 Axes>"
      ]
     },
     "metadata": {
      "needs_background": "light"
     },
     "output_type": "display_data"
    }
   ],
   "source": [
    "plt.plot(range(1,20), wcss ,'r')\n",
    "plt.scatter(range(1,20), wcss,marker='*', color='k')\n",
    "plt.show()"
   ]
  },
  {
   "cell_type": "code",
   "execution_count": 46,
   "metadata": {},
   "outputs": [
    {
     "data": {
      "text/plain": [
       "array([1, 1, 1, 1, 1, 1, 3, 1, 1, 1, 1, 1, 1, 1, 1, 1, 1, 1, 1, 1, 1, 1,\n",
       "       1, 1, 1, 1, 1, 1, 1, 0, 1, 1, 0, 0, 1, 1, 1, 1, 1, 1, 1, 1, 1, 1,\n",
       "       1, 1, 1, 1, 1, 1, 1, 1, 0, 1, 1, 1, 1, 1, 1, 1, 1, 1, 1, 1, 1, 3,\n",
       "       1, 0, 1, 1, 1, 1, 1, 1, 1, 1, 1, 1, 1, 1, 1, 1, 1, 1, 1, 1, 1, 1,\n",
       "       1, 1, 1, 1, 1, 1, 1, 1, 1, 1, 1, 1, 1, 1, 1, 1, 1, 1, 1, 1, 1, 1,\n",
       "       1, 1, 1, 1, 1, 1, 1, 0, 1, 1, 1, 1, 1, 1, 1, 1, 1, 1, 1, 1, 1, 1,\n",
       "       3, 1, 1, 1, 1, 1, 1, 0, 1, 1, 1, 1, 1, 1, 1, 1, 1, 1, 1, 1, 1, 1,\n",
       "       1, 1, 1, 1, 1, 1, 0, 1, 1, 1, 0, 1, 1, 0, 1, 1, 1, 1, 1, 1, 1, 1,\n",
       "       1, 1, 1, 1, 0, 1, 1, 1, 1, 1, 1, 1, 1, 1, 1, 1, 1, 1, 1, 1, 1, 1,\n",
       "       1, 1, 1, 1, 1, 1, 1, 0, 1, 1, 1, 1, 1, 1, 1, 1, 1, 1, 1, 0, 1, 1,\n",
       "       1, 1, 1, 1, 1, 1, 1, 1, 1, 1, 0, 1, 1, 1, 0, 1, 1, 0, 1, 1, 1, 1,\n",
       "       1, 3, 1, 0, 1, 1, 1, 1, 1, 1, 1, 1, 1, 1, 1, 1, 1, 1, 1, 1, 1, 1,\n",
       "       1, 1, 1, 1, 1, 1, 1, 1, 1, 1, 1, 1, 1, 1, 1, 1, 1, 1, 1, 1, 0, 1,\n",
       "       1, 1, 1, 1, 1, 1, 1, 1, 1, 1, 1, 1, 1, 1, 1, 1, 1, 1, 1, 1, 1, 1,\n",
       "       1, 1, 1, 1, 1, 1, 1, 1, 1, 2, 1, 1, 1, 1, 1, 1, 1, 1, 1, 1, 1, 1,\n",
       "       1, 1, 1, 1, 1, 1, 1, 1, 1, 1, 1, 1, 0, 1, 1, 1, 1, 1, 1, 1, 1, 1,\n",
       "       0, 1, 1, 1, 1, 1, 1, 1, 1, 0, 1, 1, 1, 1, 1, 1, 1, 1, 1, 1, 1, 1,\n",
       "       1, 1, 1, 1, 0, 1, 1, 1, 1, 1, 1, 1, 1, 1, 1, 1, 1, 1, 1, 1, 1, 1,\n",
       "       1, 1, 1, 1, 1, 1, 1, 1, 1, 1, 1, 1, 1, 1, 1, 1, 1, 1, 1, 1, 1, 1,\n",
       "       1, 1, 1, 1, 1, 1, 1, 1, 1, 1, 1, 1, 1, 1, 1, 1, 1, 1, 1, 1, 1, 1,\n",
       "       1, 1, 1, 1, 1, 0, 1, 1, 1, 1, 1, 1, 1, 1, 1, 1, 1, 1, 1, 1, 1, 1,\n",
       "       1, 1, 1, 1, 1, 1, 1, 1, 1, 1, 1, 1, 1, 1, 1, 1, 1, 1, 1, 1, 1, 1,\n",
       "       1, 1, 1, 1, 1, 1, 1, 1, 0, 1, 1, 1, 0, 1, 1, 1, 1, 1, 1, 1, 1, 0,\n",
       "       1, 1, 1, 1, 1, 1, 1, 1, 1, 1, 1, 1, 1, 1, 1, 1, 1, 1, 1, 1, 1, 1,\n",
       "       1, 1, 1, 1, 1, 1, 1, 1, 1, 1, 1, 1, 1, 1, 1, 1, 1, 1, 1, 1, 0, 1,\n",
       "       1, 1, 1, 1, 1, 1, 1, 1, 1, 1, 1, 0, 1, 1, 1, 1, 1, 1, 1, 1, 1, 1,\n",
       "       1, 1, 1, 0, 1, 1, 0, 1, 1, 1, 1, 1, 0, 1, 1, 1, 0, 0, 1, 1, 1, 1,\n",
       "       1, 1, 0, 1, 1, 1, 1, 1, 1, 1, 1, 1, 1, 1, 1, 1, 1, 1, 1, 1, 1, 1,\n",
       "       1, 1, 1, 1, 1, 1, 1, 1, 1, 1, 1, 1, 1, 1, 1, 1, 1, 1, 1, 1, 1, 1,\n",
       "       1, 1, 1, 1, 1, 1, 1, 1, 1, 1, 1, 1, 1, 1, 1, 1, 1, 1, 1, 1, 1, 1,\n",
       "       1, 1, 1, 1, 1, 1, 1, 1, 1, 1, 1, 1, 1, 1, 1, 1, 1, 1, 1, 1, 1, 1,\n",
       "       1, 1, 1, 1, 1, 1, 1, 1], dtype=int32)"
      ]
     },
     "execution_count": 46,
     "metadata": {},
     "output_type": "execute_result"
    }
   ],
   "source": [
    "cluster = KMeans(n_clusters=4)\n",
    "cluster.fit_predict(df)"
   ]
  },
  {
   "cell_type": "code",
   "execution_count": 47,
   "metadata": {},
   "outputs": [
    {
     "data": {
      "text/plain": [
       "Counter({1: 651, 3: 4, 0: 34, 2: 1})"
      ]
     },
     "execution_count": 47,
     "metadata": {},
     "output_type": "execute_result"
    }
   ],
   "source": [
    "Counter(cluster.predict(df))"
   ]
  },
  {
   "cell_type": "code",
   "execution_count": 48,
   "metadata": {},
   "outputs": [],
   "source": [
    "df['cluster'] = cluster.fit_predict(df)"
   ]
  },
  {
   "cell_type": "code",
   "execution_count": 49,
   "metadata": {},
   "outputs": [
    {
     "data": {
      "text/html": [
       "<div>\n",
       "<style scoped>\n",
       "    .dataframe tbody tr th:only-of-type {\n",
       "        vertical-align: middle;\n",
       "    }\n",
       "\n",
       "    .dataframe tbody tr th {\n",
       "        vertical-align: top;\n",
       "    }\n",
       "\n",
       "    .dataframe thead th {\n",
       "        text-align: right;\n",
       "    }\n",
       "</style>\n",
       "<table border=\"1\" class=\"dataframe\">\n",
       "  <thead>\n",
       "    <tr style=\"text-align: right;\">\n",
       "      <th></th>\n",
       "      <th>a1</th>\n",
       "      <th>a2</th>\n",
       "      <th>s3</th>\n",
       "      <th>a4</th>\n",
       "      <th>a5</th>\n",
       "      <th>a6</th>\n",
       "      <th>a7</th>\n",
       "      <th>a8</th>\n",
       "      <th>a9</th>\n",
       "      <th>a10</th>\n",
       "      <th>a11</th>\n",
       "      <th>a12</th>\n",
       "      <th>a13</th>\n",
       "      <th>a14</th>\n",
       "      <th>a15</th>\n",
       "      <th>a16</th>\n",
       "      <th>cluster</th>\n",
       "    </tr>\n",
       "  </thead>\n",
       "  <tbody>\n",
       "    <tr>\n",
       "      <th>0</th>\n",
       "      <td>1</td>\n",
       "      <td>83</td>\n",
       "      <td>0.000</td>\n",
       "      <td>1</td>\n",
       "      <td>1</td>\n",
       "      <td>5</td>\n",
       "      <td>3</td>\n",
       "      <td>1.25</td>\n",
       "      <td>0</td>\n",
       "      <td>0</td>\n",
       "      <td>1</td>\n",
       "      <td>1</td>\n",
       "      <td>1</td>\n",
       "      <td>107</td>\n",
       "      <td>0</td>\n",
       "      <td>0</td>\n",
       "      <td>0</td>\n",
       "    </tr>\n",
       "    <tr>\n",
       "      <th>1</th>\n",
       "      <td>0</td>\n",
       "      <td>318</td>\n",
       "      <td>4.460</td>\n",
       "      <td>1</td>\n",
       "      <td>1</td>\n",
       "      <td>9</td>\n",
       "      <td>2</td>\n",
       "      <td>3.04</td>\n",
       "      <td>0</td>\n",
       "      <td>0</td>\n",
       "      <td>6</td>\n",
       "      <td>1</td>\n",
       "      <td>1</td>\n",
       "      <td>7</td>\n",
       "      <td>560</td>\n",
       "      <td>0</td>\n",
       "      <td>0</td>\n",
       "    </tr>\n",
       "    <tr>\n",
       "      <th>2</th>\n",
       "      <td>0</td>\n",
       "      <td>161</td>\n",
       "      <td>0.500</td>\n",
       "      <td>1</td>\n",
       "      <td>1</td>\n",
       "      <td>9</td>\n",
       "      <td>2</td>\n",
       "      <td>1.50</td>\n",
       "      <td>0</td>\n",
       "      <td>1</td>\n",
       "      <td>0</td>\n",
       "      <td>1</td>\n",
       "      <td>1</td>\n",
       "      <td>27</td>\n",
       "      <td>824</td>\n",
       "      <td>0</td>\n",
       "      <td>0</td>\n",
       "    </tr>\n",
       "    <tr>\n",
       "      <th>3</th>\n",
       "      <td>1</td>\n",
       "      <td>333</td>\n",
       "      <td>1.540</td>\n",
       "      <td>1</td>\n",
       "      <td>1</td>\n",
       "      <td>5</td>\n",
       "      <td>3</td>\n",
       "      <td>3.75</td>\n",
       "      <td>0</td>\n",
       "      <td>0</td>\n",
       "      <td>5</td>\n",
       "      <td>0</td>\n",
       "      <td>1</td>\n",
       "      <td>114</td>\n",
       "      <td>3</td>\n",
       "      <td>0</td>\n",
       "      <td>0</td>\n",
       "    </tr>\n",
       "    <tr>\n",
       "      <th>4</th>\n",
       "      <td>1</td>\n",
       "      <td>268</td>\n",
       "      <td>5.625</td>\n",
       "      <td>1</td>\n",
       "      <td>1</td>\n",
       "      <td>5</td>\n",
       "      <td>3</td>\n",
       "      <td>1.71</td>\n",
       "      <td>0</td>\n",
       "      <td>1</td>\n",
       "      <td>0</td>\n",
       "      <td>1</td>\n",
       "      <td>0</td>\n",
       "      <td>28</td>\n",
       "      <td>0</td>\n",
       "      <td>0</td>\n",
       "      <td>0</td>\n",
       "    </tr>\n",
       "  </tbody>\n",
       "</table>\n",
       "</div>"
      ],
      "text/plain": [
       "   a1   a2     s3  a4  a5  a6  a7    a8  a9  a10  a11  a12  a13  a14  a15  \\\n",
       "0   1   83  0.000   1   1   5   3  1.25   0    0    1    1    1  107    0   \n",
       "1   0  318  4.460   1   1   9   2  3.04   0    0    6    1    1    7  560   \n",
       "2   0  161  0.500   1   1   9   2  1.50   0    1    0    1    1   27  824   \n",
       "3   1  333  1.540   1   1   5   3  3.75   0    0    5    0    1  114    3   \n",
       "4   1  268  5.625   1   1   5   3  1.71   0    1    0    1    0   28    0   \n",
       "\n",
       "   a16  cluster  \n",
       "0    0        0  \n",
       "1    0        0  \n",
       "2    0        0  \n",
       "3    0        0  \n",
       "4    0        0  "
      ]
     },
     "execution_count": 49,
     "metadata": {},
     "output_type": "execute_result"
    }
   ],
   "source": [
    "df.head()"
   ]
  },
  {
   "cell_type": "code",
   "execution_count": 50,
   "metadata": {},
   "outputs": [
    {
     "data": {
      "text/plain": [
       "Counter({0: 651, 1: 4, 3: 34, 2: 1})"
      ]
     },
     "execution_count": 50,
     "metadata": {},
     "output_type": "execute_result"
    }
   ],
   "source": [
    "Counter(df['cluster'])"
   ]
  },
  {
   "cell_type": "code",
   "execution_count": null,
   "metadata": {},
   "outputs": [],
   "source": []
  }
 ],
 "metadata": {
  "kernelspec": {
   "display_name": "Python 3",
   "language": "python",
   "name": "python3"
  },
  "language_info": {
   "codemirror_mode": {
    "name": "ipython",
    "version": 3
   },
   "file_extension": ".py",
   "mimetype": "text/x-python",
   "name": "python",
   "nbconvert_exporter": "python",
   "pygments_lexer": "ipython3",
   "version": "3.6.8"
  }
 },
 "nbformat": 4,
 "nbformat_minor": 4
}
