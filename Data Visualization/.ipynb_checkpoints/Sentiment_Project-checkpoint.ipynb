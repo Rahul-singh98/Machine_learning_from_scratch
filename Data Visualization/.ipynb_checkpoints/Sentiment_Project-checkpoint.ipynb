{
 "cells": [
  {
   "cell_type": "code",
   "execution_count": 1,
   "metadata": {},
   "outputs": [],
   "source": [
    "import pandas as pd\n",
    "import pandas_profiling\n",
    "import re"
   ]
  },
  {
   "cell_type": "markdown",
   "metadata": {},
   "source": [
    "### Preparing data"
   ]
  },
  {
   "cell_type": "code",
   "execution_count": 2,
   "metadata": {},
   "outputs": [],
   "source": [
    "# This returns the list of dataframes\n",
    "url = \"https://docs.google.com/spreadsheets/u/0/d/1s6qOj_YwK7RRT_2iQJktnGdqR7vuoQJ8kfCr1x2g2d4/htmlview#\"\n",
    "complete_data_list = pd.read_html(url,header=1, index_col=0)"
   ]
  },
  {
   "cell_type": "code",
   "execution_count": 3,
   "metadata": {},
   "outputs": [],
   "source": [
    "df1 , df2 , df3 , df4 = complete_data_list"
   ]
  },
  {
   "cell_type": "code",
   "execution_count": 4,
   "metadata": {},
   "outputs": [],
   "source": [
    "df1.reset_index(drop=True , inplace=True)\n",
    "df2.reset_index(drop=True , inplace=True)\n",
    "df3.reset_index(drop=True , inplace=True)\n",
    "df4.reset_index(drop=True , inplace=True);"
   ]
  },
  {
   "cell_type": "code",
   "execution_count": 5,
   "metadata": {},
   "outputs": [
    {
     "name": "stdout",
     "output_type": "stream",
     "text": [
      "(103, 2)\n",
      "(7513, 3)\n",
      "(217, 6)\n",
      "(151, 1)\n"
     ]
    }
   ],
   "source": [
    "print(df1.shape)\n",
    "print(df2.shape)\n",
    "print(df3.shape)\n",
    "print(df4.shape)"
   ]
  },
  {
   "cell_type": "code",
   "execution_count": 6,
   "metadata": {},
   "outputs": [
    {
     "data": {
      "text/html": [
       "<div>\n",
       "<style scoped>\n",
       "    .dataframe tbody tr th:only-of-type {\n",
       "        vertical-align: middle;\n",
       "    }\n",
       "\n",
       "    .dataframe tbody tr th {\n",
       "        vertical-align: top;\n",
       "    }\n",
       "\n",
       "    .dataframe thead th {\n",
       "        text-align: right;\n",
       "    }\n",
       "</style>\n",
       "<table border=\"1\" class=\"dataframe\">\n",
       "  <thead>\n",
       "    <tr style=\"text-align: right;\">\n",
       "      <th></th>\n",
       "      <th>Statement</th>\n",
       "      <th>Keywords</th>\n",
       "    </tr>\n",
       "  </thead>\n",
       "  <tbody>\n",
       "    <tr>\n",
       "      <th>0</th>\n",
       "      <td>:dizzy::sunflower::herb: You might not see it ...</td>\n",
       "      <td>amazondotin amazonfashion amazoninfluencer bek...</td>\n",
       "    </tr>\n",
       "    <tr>\n",
       "      <th>1</th>\n",
       "      <td>Yes You heard it right... You can have paratha...</td>\n",
       "      <td>awifesperspective</td>\n",
       "    </tr>\n",
       "    <tr>\n",
       "      <th>2</th>\n",
       "      <td>Those were the days.... No Corona No masks.......</td>\n",
       "      <td>awifesperspective</td>\n",
       "    </tr>\n",
       "    <tr>\n",
       "      <th>3</th>\n",
       "      <td>Agree??It happens to me every week... What abo...</td>\n",
       "      <td>awifesperspective</td>\n",
       "    </tr>\n",
       "    <tr>\n",
       "      <th>4</th>\n",
       "      <td>:white_medium_star::upside-down_face::white_me...</td>\n",
       "      <td>bowtieandlipsticks covid19 gocoronago healthti...</td>\n",
       "    </tr>\n",
       "  </tbody>\n",
       "</table>\n",
       "</div>"
      ],
      "text/plain": [
       "                                           Statement  \\\n",
       "0  :dizzy::sunflower::herb: You might not see it ...   \n",
       "1  Yes You heard it right... You can have paratha...   \n",
       "2  Those were the days.... No Corona No masks.......   \n",
       "3  Agree??It happens to me every week... What abo...   \n",
       "4  :white_medium_star::upside-down_face::white_me...   \n",
       "\n",
       "                                            Keywords  \n",
       "0  amazondotin amazonfashion amazoninfluencer bek...  \n",
       "1                                  awifesperspective  \n",
       "2                                  awifesperspective  \n",
       "3                                  awifesperspective  \n",
       "4  bowtieandlipsticks covid19 gocoronago healthti...  "
      ]
     },
     "execution_count": 6,
     "metadata": {},
     "output_type": "execute_result"
    }
   ],
   "source": [
    "df1.head()"
   ]
  },
  {
   "cell_type": "code",
   "execution_count": 7,
   "metadata": {},
   "outputs": [
    {
     "name": "stdout",
     "output_type": "stream",
     "text": [
      ":dizzy::sunflower::herb: You might not see it but am gonna fucking do it :smiling_face_with_sunglasses: -...#founditonamazon #amazonfashion #amazondotin #amazoninfluencer .Follow : @abdul_zubarti :camera:Follow : @abdul_zubarti .:camera:.Dont forget to:.>Double tap if you like and .Comment your thoughts :thought_balloon: .>Share with your friends :Virgo:.>Follow me @abdul_zubarti :red_heart:.For more amazing post!:white_heavy_check_mark::rainbow:. .......#trendingfashion #fashionphotoshoot #explorepageready #indianinfluencer #fashionmodelling #bekindnessgod #iblradiance #lifehotoaisihi\n"
     ]
    }
   ],
   "source": [
    "print(df1.Statement[0])"
   ]
  },
  {
   "cell_type": "code",
   "execution_count": 16,
   "metadata": {},
   "outputs": [
    {
     "data": {
      "text/plain": [
       "[':dizzy::sunflower::herb:',\n",
       " 'You',\n",
       " 'might',\n",
       " 'not',\n",
       " 'see',\n",
       " 'it',\n",
       " 'but',\n",
       " 'am',\n",
       " 'gonna',\n",
       " 'fucking',\n",
       " 'do',\n",
       " 'it',\n",
       " ':smiling_face_with_sunglasses:',\n",
       " '-...#founditonamazon',\n",
       " '#amazonfashion',\n",
       " '#amazondotin',\n",
       " '#amazoninfluencer',\n",
       " '.Follow',\n",
       " ':',\n",
       " '@abdul_zubarti',\n",
       " ':camera:Follow',\n",
       " ':',\n",
       " '@abdul_zubarti',\n",
       " '.:camera:.Dont',\n",
       " 'forget',\n",
       " 'to:.>Double',\n",
       " 'tap',\n",
       " 'if',\n",
       " 'you',\n",
       " 'like',\n",
       " 'and',\n",
       " '.Comment',\n",
       " 'your',\n",
       " 'thoughts',\n",
       " ':thought_balloon:',\n",
       " '.>Share',\n",
       " 'with',\n",
       " 'your',\n",
       " 'friends',\n",
       " ':Virgo:.>Follow',\n",
       " 'me',\n",
       " '@abdul_zubarti',\n",
       " ':red_heart:.For',\n",
       " 'more',\n",
       " 'amazing',\n",
       " 'post!:white_heavy_check_mark::rainbow:.',\n",
       " '.......#trendingfashion',\n",
       " '#fashionphotoshoot',\n",
       " '#explorepageready',\n",
       " '#indianinfluencer',\n",
       " '#fashionmodelling',\n",
       " '#bekindnessgod',\n",
       " '#iblradiance',\n",
       " '#lifehotoaisihi']"
      ]
     },
     "execution_count": 16,
     "metadata": {},
     "output_type": "execute_result"
    }
   ],
   "source": [
    "df1['Statement'][0].split()"
   ]
  },
  {
   "cell_type": "code",
   "execution_count": null,
   "metadata": {},
   "outputs": [],
   "source": []
  }
 ],
 "metadata": {
  "kernelspec": {
   "display_name": "Python 3",
   "language": "python",
   "name": "python3"
  },
  "language_info": {
   "codemirror_mode": {
    "name": "ipython",
    "version": 3
   },
   "file_extension": ".py",
   "mimetype": "text/x-python",
   "name": "python",
   "nbconvert_exporter": "python",
   "pygments_lexer": "ipython3",
   "version": "3.6.8"
  }
 },
 "nbformat": 4,
 "nbformat_minor": 4
}
